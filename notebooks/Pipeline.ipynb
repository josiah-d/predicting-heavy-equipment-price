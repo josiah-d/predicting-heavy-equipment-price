{
 "cells": [
  {
   "cell_type": "code",
   "execution_count": 221,
   "id": "ce0c223b",
   "metadata": {},
   "outputs": [],
   "source": [
    "import pandas as pd\n",
    "from sklearn.linear_model import LinearRegression\n",
    "from sklearn.linear_model import Lasso\n",
    "from sklearn.linear_model import Ridge\n",
    "import numpy as np\n",
    "from loss_model import rmsle"
   ]
  },
  {
   "cell_type": "code",
   "execution_count": 199,
   "id": "bb49b163",
   "metadata": {},
   "outputs": [
    {
     "name": "stderr",
     "output_type": "stream",
     "text": [
      "/home/nathan/anaconda3/lib/python3.8/site-packages/IPython/core/interactiveshell.py:3165: DtypeWarning: Columns (13,39,40,41) have mixed types.Specify dtype option on import or set low_memory=False.\n",
      "  has_raised = await self.run_ast_nodes(code_ast.body, cell_name,\n"
     ]
    }
   ],
   "source": [
    "data = pd.read_csv('../data/Train.csv')"
   ]
  },
  {
   "cell_type": "code",
   "execution_count": 200,
   "id": "e7b4993f",
   "metadata": {},
   "outputs": [],
   "source": [
    "# Get just the columns we want to look at\n",
    "data = data.iloc[:, [0,1, 6, 7, 15, 17, 18]]\n"
   ]
  },
  {
   "cell_type": "code",
   "execution_count": 202,
   "id": "99103397",
   "metadata": {},
   "outputs": [],
   "source": [
    "# Clean YearsMade column\n",
    "year_mean = data['YearMade'][data['YearMade'] > 1960].mean()\n",
    "data['YearMade'][data['YearMade'] < 1918] = year_mean"
   ]
  },
  {
   "cell_type": "code",
   "execution_count": 203,
   "id": "9cc67f3a",
   "metadata": {},
   "outputs": [],
   "source": [
    "# Clean ProductSize column\n",
    "data['ProductSize'] = data['ProductSize'].fillna('Medium') \n"
   ]
  },
  {
   "cell_type": "code",
   "execution_count": 204,
   "id": "affcc1dd",
   "metadata": {},
   "outputs": [],
   "source": [
    "# Clean MachinHoursCurrentMeter column\n",
    "mach_hours_mean = data['MachineHoursCurrentMeter'][data['MachineHoursCurrentMeter'].notnull()].mean()\n",
    "data['MachineHoursCurrentMeter'] = data['MachineHoursCurrentMeter'].fillna(mach_hours_mean) "
   ]
  },
  {
   "cell_type": "code",
   "execution_count": 205,
   "id": "40c26071",
   "metadata": {},
   "outputs": [],
   "source": [
    "#Create Dummies dataframes\n",
    "prod_group_dummies = pd.get_dummies(data[\"ProductGroup\"], drop_first=True)\n",
    "prod_size_dummies = pd.get_dummies(data[\"ProductSize\"], drop_first=True)\n",
    "state_dummies = pd.get_dummies(data[\"state\"], drop_first=True)\n",
    "data = pd.concat([data, prod_group_dummies], axis=1)\n",
    "data = pd.concat([data, prod_size_dummies], axis=1)\n",
    "data = pd.concat([data, state_dummies], axis=1)\n",
    "data = data.drop(columns=['ProductGroup', 'ProductSize', 'state'])"
   ]
  },
  {
   "cell_type": "code",
   "execution_count": null,
   "id": "b8cf36ee",
   "metadata": {},
   "outputs": [],
   "source": [
    "X = data.drop('SalePrice', axis=1)\n",
    "y = data['SalePrice']\n",
    "X_train, X_test, y_train, y_test = train"
   ]
  },
  {
   "cell_type": "code",
   "execution_count": 218,
   "id": "717c83f0",
   "metadata": {},
   "outputs": [
    {
     "name": "stderr",
     "output_type": "stream",
     "text": [
      "/home/nathan/Desktop/dsi_galvanize/case_studies/predicting-heavy-equipment-price/notebooks/loss_model.py:6: RuntimeWarning: invalid value encountered in log\n",
      "  log_diff = np.log(predictions+1) - np.log(actual+1)\n"
     ]
    },
    {
     "data": {
      "text/plain": [
       "0.552865440233097"
      ]
     },
     "execution_count": 218,
     "metadata": {},
     "output_type": "execute_result"
    }
   ],
   "source": [
    "# Linear Regression Model\n",
    "model = LinearRegression()\n",
    "model.fit(X,y)\n",
    "results = model.predict(X)\n",
    "rmsle(results, y)"
   ]
  },
  {
   "cell_type": "code",
   "execution_count": 220,
   "id": "0346186e",
   "metadata": {},
   "outputs": [
    {
     "name": "stderr",
     "output_type": "stream",
     "text": [
      "/home/nathan/anaconda3/lib/python3.8/site-packages/sklearn/linear_model/_coordinate_descent.py:530: ConvergenceWarning: Objective did not converge. You might want to increase the number of iterations. Duality gap: 52262207250158.91, tolerance: 21287598237.442856\n",
      "  model = cd_fast.enet_coordinate_descent(\n",
      "/home/nathan/Desktop/dsi_galvanize/case_studies/predicting-heavy-equipment-price/notebooks/loss_model.py:6: RuntimeWarning: invalid value encountered in log\n",
      "  log_diff = np.log(predictions+1) - np.log(actual+1)\n"
     ]
    },
    {
     "data": {
      "text/plain": [
       "0.5523803323265339"
      ]
     },
     "execution_count": 220,
     "metadata": {},
     "output_type": "execute_result"
    }
   ],
   "source": [
    "# Lasso\n",
    "model = Lasso()\n",
    "model.fit(X,y)\n",
    "results = model.predict(X)\n",
    "rmsle(results, y)"
   ]
  },
  {
   "cell_type": "code",
   "execution_count": 222,
   "id": "e061321a",
   "metadata": {},
   "outputs": [
    {
     "name": "stderr",
     "output_type": "stream",
     "text": [
      "/home/nathan/anaconda3/lib/python3.8/site-packages/sklearn/linear_model/_ridge.py:147: LinAlgWarning: Ill-conditioned matrix (rcond=8.95759e-18): result may not be accurate.\n",
      "  return linalg.solve(A, Xy, sym_pos=True,\n",
      "/home/nathan/Desktop/dsi_galvanize/case_studies/predicting-heavy-equipment-price/notebooks/loss_model.py:6: RuntimeWarning: invalid value encountered in log\n",
      "  log_diff = np.log(predictions+1) - np.log(actual+1)\n"
     ]
    },
    {
     "data": {
      "text/plain": [
       "0.5525393411662134"
      ]
     },
     "execution_count": 222,
     "metadata": {},
     "output_type": "execute_result"
    }
   ],
   "source": [
    "# Ridge\n",
    "model = Ridge()\n",
    "model.fit(X,y)\n",
    "results = model.predict(X)\n",
    "rmsle(results, y)"
   ]
  }
 ],
 "metadata": {
  "kernelspec": {
   "display_name": "Python 3",
   "language": "python",
   "name": "python3"
  },
  "language_info": {
   "codemirror_mode": {
    "name": "ipython",
    "version": 3
   },
   "file_extension": ".py",
   "mimetype": "text/x-python",
   "name": "python",
   "nbconvert_exporter": "python",
   "pygments_lexer": "ipython3",
   "version": "3.8.10"
  }
 },
 "nbformat": 4,
 "nbformat_minor": 5
}
