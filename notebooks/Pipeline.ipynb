{
 "cells": [
  {
   "cell_type": "code",
   "execution_count": 198,
   "id": "03219f56",
   "metadata": {},
   "outputs": [],
   "source": [
    "import pandas as pd\n",
    "from sklearn.linear_model import LinearRegression\n",
    "import numpy as np\n",
    "from loss_model import rmsle"
   ]
  },
  {
   "cell_type": "code",
   "execution_count": 199,
   "id": "527e29ef",
   "metadata": {},
   "outputs": [
    {
     "name": "stderr",
     "output_type": "stream",
     "text": [
      "/home/nathan/anaconda3/lib/python3.8/site-packages/IPython/core/interactiveshell.py:3165: DtypeWarning: Columns (13,39,40,41) have mixed types.Specify dtype option on import or set low_memory=False.\n",
      "  has_raised = await self.run_ast_nodes(code_ast.body, cell_name,\n"
     ]
    }
   ],
   "source": [
    "data = pd.read_csv('../data/Train.csv')"
   ]
  },
  {
   "cell_type": "code",
   "execution_count": 200,
   "id": "62f12e06",
   "metadata": {},
   "outputs": [],
   "source": [
    "# Get just the columns we want to look at\n",
    "data = data.iloc[:, [0,1, 6, 7, 15, 17, 18]]\n"
   ]
  },
  {
   "cell_type": "code",
   "execution_count": 202,
   "id": "381f0ded",
   "metadata": {},
   "outputs": [],
   "source": [
    "# Clean YearsMade column\n",
    "year_mean = data['YearMade'][data['YearMade'] > 1960].mean()\n",
    "data['YearMade'][data['YearMade'] < 1918] = year_mean"
   ]
  },
  {
   "cell_type": "code",
   "execution_count": 203,
   "id": "0c01343b",
   "metadata": {},
   "outputs": [],
   "source": [
    "# Clean ProductSize column\n",
    "data['ProductSize'] = data['ProductSize'].fillna('Medium') \n"
   ]
  },
  {
   "cell_type": "code",
   "execution_count": 204,
   "id": "6f60caa1",
   "metadata": {},
   "outputs": [],
   "source": [
    "# Clean MachinHoursCurrentMeter column\n",
    "mach_hours_mean = data['MachineHoursCurrentMeter'][data['MachineHoursCurrentMeter'].notnull()].mean()\n",
    "data['MachineHoursCurrentMeter'] = data['MachineHoursCurrentMeter'].fillna(mach_hours_mean) "
   ]
  },
  {
   "cell_type": "code",
   "execution_count": 205,
   "id": "cbd7173e",
   "metadata": {},
   "outputs": [],
   "source": [
    "#Create Dummies dataframes\n",
    "prod_group_dummies = pd.get_dummies(data[\"ProductGroup\"], drop_first=True)\n",
    "prod_size_dummies = pd.get_dummies(data[\"ProductSize\"], drop_first=True)\n",
    "state_dummies = pd.get_dummies(data[\"state\"], drop_first=True)\n",
    "data = pd.concat([data, prod_group_dummies], axis=1)\n",
    "data = pd.concat([data, prod_size_dummies], axis=1)\n",
    "data = pd.concat([data, state_dummies], axis=1)\n",
    "data = data.drop(columns=['ProductGroup', 'ProductSize', 'state'])"
   ]
  },
  {
   "cell_type": "code",
   "execution_count": 206,
   "id": "781d699e",
   "metadata": {},
   "outputs": [],
   "source": [
    "X = data.drop('SalePrice', axis=1)\n",
    "y = data['SalePrice']\n",
    "model = LinearRegression()\n",
    "model.fit(X,y)\n",
    "results = model.predict(X)\n"
   ]
  },
  {
   "cell_type": "code",
   "execution_count": 207,
   "id": "0c3f00a4",
   "metadata": {},
   "outputs": [
    {
     "name": "stderr",
     "output_type": "stream",
     "text": [
      "/home/nathan/Desktop/dsi_galvanize/case_studies/predicting-heavy-equipment-price/notebooks/loss_model.py:6: RuntimeWarning: invalid value encountered in log\n",
      "  log_diff = np.log(predictions+1) - np.log(actual+1)\n"
     ]
    },
    {
     "data": {
      "text/plain": [
       "0.552865440233097"
      ]
     },
     "execution_count": 207,
     "metadata": {},
     "output_type": "execute_result"
    }
   ],
   "source": [
    "rmsle(results, y)"
   ]
  },
  {
   "cell_type": "code",
   "execution_count": null,
   "id": "51b79486",
   "metadata": {},
   "outputs": [],
   "source": []
  }
 ],
 "metadata": {
  "kernelspec": {
   "display_name": "Python 3",
   "language": "python",
   "name": "python3"
  },
  "language_info": {
   "codemirror_mode": {
    "name": "ipython",
    "version": 3
   },
   "file_extension": ".py",
   "mimetype": "text/x-python",
   "name": "python",
   "nbconvert_exporter": "python",
   "pygments_lexer": "ipython3",
   "version": "3.8.10"
  }
 },
 "nbformat": 4,
 "nbformat_minor": 5
}
